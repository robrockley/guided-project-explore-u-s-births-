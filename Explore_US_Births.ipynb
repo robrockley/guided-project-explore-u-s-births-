{
 "cells": [
  {
   "cell_type": "markdown",
   "metadata": {},
   "source": [
    "Step 1:\n",
    "Presume there is a file named \"US_births_1994-2003_CDC_NCHS.csv\" in the current directory.  This file has the following columns:\n",
    "\n",
    "year: Year (1994 to 2003).\n",
    "month: Month (1 to 12).\n",
    "date_of_month: Day number of the month (1 to 31).\n",
    "day_of_week: Day of week (1 to 7).\n",
    "births: Number of births that day.\n",
    "\n",
    "Read the CSV file into a string.  Split the string on the newline character.  Display the first 10 values in the resulting list."
   ]
  },
  {
   "cell_type": "code",
   "execution_count": 101,
   "metadata": {
    "collapsed": false
   },
   "outputs": [
    {
     "data": {
      "text/plain": [
       "['year,month,date_of_month,day_of_week,births',\n",
       " '1994,1,1,6,8096',\n",
       " '1994,1,2,7,7772',\n",
       " '1994,1,3,1,10142',\n",
       " '1994,1,4,2,11248',\n",
       " '1994,1,5,3,11053',\n",
       " '1994,1,6,4,11406',\n",
       " '1994,1,7,5,11251',\n",
       " '1994,1,8,6,8653',\n",
       " '1994,1,9,7,7910']"
      ]
     },
     "execution_count": 101,
     "metadata": {},
     "output_type": "execute_result"
    }
   ],
   "source": [
    "us_births = open(\"US_births_1994-2003_CDC_NCHS.csv\").read().split(\"\\n\")\n",
    "us_births[0:10]"
   ]
  },
  {
   "cell_type": "markdown",
   "metadata": {},
   "source": [
    "Step 2:\n",
    "Create a function named read_csv() that:\n",
    "Takes a single, required argument, a string representing the file name of the CSV file.\n",
    "Reads the file into a string, splits the string on the newline character (\"\\n\"), and removes the header row. Assign this list to string_list and create an empty list named final_list.\n",
    "Uses a for loop to:\n",
    "Iterate over string_list,\n",
    "Create an empty list named int_fields,\n",
    "Splits each row on the comma delimiter (,) and assigns the resulting list to string_fields,\n",
    "Converts each value in string_fields to an integer and appends to int_fields,\n",
    "Appends int_fields to final_list.\n",
    "Returns final_list.\n",
    "\n",
    "Use the read_csv() function to read in the file \"US_births_1994-2003_CDC_NCHS.csv\" and assign the result to cdc_list.\n",
    "\n",
    "Display the first 10 rows of cdc_list to confirm it's a list of lists, containing only integer values, and no header row."
   ]
  },
  {
   "cell_type": "code",
   "execution_count": 102,
   "metadata": {
    "collapsed": false
   },
   "outputs": [
    {
     "data": {
      "text/plain": [
       "[[1994, 1, 1, 6, 8096],\n",
       " [1994, 1, 2, 7, 7772],\n",
       " [1994, 1, 3, 1, 10142],\n",
       " [1994, 1, 4, 2, 11248],\n",
       " [1994, 1, 5, 3, 11053],\n",
       " [1994, 1, 6, 4, 11406],\n",
       " [1994, 1, 7, 5, 11251],\n",
       " [1994, 1, 8, 6, 8653],\n",
       " [1994, 1, 9, 7, 7910],\n",
       " [1994, 1, 10, 1, 10498]]"
      ]
     },
     "execution_count": 102,
     "metadata": {},
     "output_type": "execute_result"
    }
   ],
   "source": [
    "def read_csv(csv_file):\n",
    "    string_list = open(csv_file).read().split(\"\\n\")\n",
    "    string_list = string_list[1:]\n",
    "    final_list = []\n",
    "    \n",
    "    for sl in string_list:\n",
    "        int_fields = []\n",
    "        string_fields = sl.split(\",\")\n",
    "        for value in string_fields:\n",
    "            int_fields.append(int(value))\n",
    "    \n",
    "        final_list.append(int_fields)\n",
    "    \n",
    "    return final_list\n",
    "\n",
    "cdc_list = read_csv(\"US_births_1994-2003_CDC_NCHS.csv\")\n",
    "cdc_list[0:10]\n",
    "                     \n"
   ]
  },
  {
   "cell_type": "markdown",
   "metadata": {},
   "source": [
    "Step 3: Create a function named month_births() that:\n",
    "Takes a single, required argument, a list of lists.\n",
    "\n",
    "Creates an empty dictionary, births_per_month, to store the monthly totals.\n",
    "\n",
    "Uses a for loop to:\n",
    "Iterate over the list of lists,\n",
    "Extract the value in the month and births columns,\n",
    "If the month value already exists as a key in births_per_month, the births value is added to the existing value,\n",
    "If the month value doesn't exist as a key in births_per_month, it's created and the associated value is the births value.\n",
    "After the loop, return the births_per_month dictionary.\n",
    "\n",
    "Use the month_births() function to calculate the monthly totals for the dataset and assign the result to cdc_month_births. Display the dictionary."
   ]
  },
  {
   "cell_type": "code",
   "execution_count": 103,
   "metadata": {
    "collapsed": false,
    "scrolled": true
   },
   "outputs": [
    {
     "data": {
      "text/plain": [
       "{1: 8405,\n",
       " 2: 12036,\n",
       " 3: 12436,\n",
       " 4: 10929,\n",
       " 5: 8454,\n",
       " 6: 12648,\n",
       " 7: 12763,\n",
       " 8: 11737,\n",
       " 9: 12482,\n",
       " 10: 9660,\n",
       " 11: 12615,\n",
       " 12: 11990}"
      ]
     },
     "execution_count": 103,
     "metadata": {},
     "output_type": "execute_result"
    }
   ],
   "source": [
    "def month_births(data):\n",
    "    births_per_month = {}\n",
    "    \n",
    "    for row in data:\n",
    "        month = row[1] #second column in list of lists\n",
    "        births = row[4] #fifth column in list of lists\n",
    "        \n",
    "        if month in births_per_month:\n",
    "            births_per_month[month] = births_per_month[month] + 1\n",
    "        else:\n",
    "            births_per_month[month] = births\n",
    "    return births_per_month\n",
    "\n",
    "cdc_month_births = month_births(cdc_list)\n",
    "cdc_month_births\n",
    "\n",
    "        "
   ]
  },
  {
   "cell_type": "markdown",
   "metadata": {},
   "source": [
    "Step 4: Create a function named dow_births() that takes a single, required argument (a list of lists) and returns a dictionary containing the total number of births for each unique value of the day_of_week column.\n",
    "\n",
    "Use the dow_births() function to return the day-of-week totals for the dataset and assign the result to cdc_day_births. Display the dictionary."
   ]
  },
  {
   "cell_type": "code",
   "execution_count": 104,
   "metadata": {
    "collapsed": false
   },
   "outputs": [
    {
     "data": {
      "text/plain": [
       "{1: 10663, 2: 11769, 3: 11574, 4: 11926, 5: 11771, 6: 8617, 7: 8293}"
      ]
     },
     "execution_count": 104,
     "metadata": {},
     "output_type": "execute_result"
    }
   ],
   "source": [
    "def dow_births(data):\n",
    "     births_per_dow = {}\n",
    "    \n",
    "     for row in data:\n",
    "        dow = row[3] #fourth column in list of lists\n",
    "        births = row[4] #fifth column in list of lists\n",
    "        \n",
    "        if dow in births_per_dow:\n",
    "            births_per_dow[dow] = births_per_dow[dow] + 1\n",
    "        else:\n",
    "            births_per_dow[dow] = births\n",
    "    \n",
    "     return births_per_dow\n",
    "\n",
    "cdc_day_births = dow_births(cdc_list)\n",
    "cdc_day_births"
   ]
  },
  {
   "cell_type": "markdown",
   "metadata": {},
   "source": [
    "Step 5: Create a function named calc_counts() that:\n",
    "Takes two, required parameters:\n",
    "data: a list of lists\n",
    "column: the column number we want to calculate the totals for\n",
    "Populates and returns a dictionary containing the total number of births for each unique value in the column at position column.\n",
    "\n",
    "Use the calc_counts() function to:\n",
    "Return the yearly totals for the dataset and assign the result to cdc_year_births.\n",
    "Return the monthly totals for the dataset and assign the result to cdc_month_births.\n",
    "Return the day-of-month totals for the dataset and assign the result to cdc_dom_births.\n",
    "Return the day-of-week totals for the dataset and assign the result to cdc_dow_births."
   ]
  },
  {
   "cell_type": "code",
   "execution_count": 105,
   "metadata": {
    "collapsed": false
   },
   "outputs": [],
   "source": [
    "#create a function that works for all columns in dataset\n",
    "def calc_counts(data, column):\n",
    "    #populates and returns a dictionary containing the total number\n",
    "    # of births for each unique value in the column at position <column>\n",
    "    sums_dict = {}\n",
    "    \n",
    "    for row in data:\n",
    "        col_value = row[column]\n",
    "        births = row[4]\n",
    "        \n",
    "        if col_value in sums_dict:\n",
    "            sums_dict[col_value] = sums_dict[col_value] + births\n",
    "        else:\n",
    "            sums_dict[col_value] = births\n",
    "            \n",
    "    return sums_dict\n",
    "\n",
    "#return totals below for each column in dataset\n",
    "cdc_year_births = calc_counts(cdc_list, 0)\n",
    "cdc_month_births = calc_counts(cdc_list, 1)\n",
    "cdc_dom_births = calc_counts(cdc_list, 2)\n",
    "cdc_dow_births = calc_counts(cdc_list, 3)"
   ]
  },
  {
   "cell_type": "code",
   "execution_count": 106,
   "metadata": {
    "collapsed": false
   },
   "outputs": [
    {
     "data": {
      "text/plain": [
       "{1994: 3952767,\n",
       " 1995: 3899589,\n",
       " 1996: 3891494,\n",
       " 1997: 3880894,\n",
       " 1998: 3941553,\n",
       " 1999: 3959417,\n",
       " 2000: 4058814,\n",
       " 2001: 4025933,\n",
       " 2002: 4021726,\n",
       " 2003: 4089950}"
      ]
     },
     "execution_count": 106,
     "metadata": {},
     "output_type": "execute_result"
    }
   ],
   "source": [
    "#display value calculated for births by year\n",
    "cdc_year_births"
   ]
  },
  {
   "cell_type": "code",
   "execution_count": 107,
   "metadata": {
    "collapsed": false
   },
   "outputs": [
    {
     "data": {
      "text/plain": [
       "{1: 3232517,\n",
       " 2: 3018140,\n",
       " 3: 3322069,\n",
       " 4: 3185314,\n",
       " 5: 3350907,\n",
       " 6: 3296530,\n",
       " 7: 3498783,\n",
       " 8: 3525858,\n",
       " 9: 3439698,\n",
       " 10: 3378814,\n",
       " 11: 3171647,\n",
       " 12: 3301860}"
      ]
     },
     "execution_count": 107,
     "metadata": {},
     "output_type": "execute_result"
    }
   ],
   "source": [
    "#dispaly value calculated for births by month\n",
    "cdc_month_births"
   ]
  },
  {
   "cell_type": "code",
   "execution_count": 108,
   "metadata": {
    "collapsed": false
   },
   "outputs": [
    {
     "data": {
      "text/plain": [
       "{1: 1276557,\n",
       " 2: 1288739,\n",
       " 3: 1304499,\n",
       " 4: 1288154,\n",
       " 5: 1299953,\n",
       " 6: 1304474,\n",
       " 7: 1310459,\n",
       " 8: 1312297,\n",
       " 9: 1303292,\n",
       " 10: 1320764,\n",
       " 11: 1314361,\n",
       " 12: 1318437,\n",
       " 13: 1277684,\n",
       " 14: 1320153,\n",
       " 15: 1319171,\n",
       " 16: 1315192,\n",
       " 17: 1324953,\n",
       " 18: 1326855,\n",
       " 19: 1318727,\n",
       " 20: 1324821,\n",
       " 21: 1322897,\n",
       " 22: 1317381,\n",
       " 23: 1293290,\n",
       " 24: 1288083,\n",
       " 25: 1272116,\n",
       " 26: 1284796,\n",
       " 27: 1294395,\n",
       " 28: 1307685,\n",
       " 29: 1223161,\n",
       " 30: 1202095,\n",
       " 31: 746696}"
      ]
     },
     "execution_count": 108,
     "metadata": {},
     "output_type": "execute_result"
    }
   ],
   "source": [
    "#display value calculated for births by day of month\n",
    "cdc_dom_births"
   ]
  },
  {
   "cell_type": "code",
   "execution_count": 109,
   "metadata": {
    "collapsed": false
   },
   "outputs": [
    {
     "data": {
      "text/plain": [
       "{1: 5789166,\n",
       " 2: 6446196,\n",
       " 3: 6322855,\n",
       " 4: 6288429,\n",
       " 5: 6233657,\n",
       " 6: 4562111,\n",
       " 7: 4079723}"
      ]
     },
     "execution_count": 109,
     "metadata": {},
     "output_type": "execute_result"
    }
   ],
   "source": [
    "#display value calculated for births by date of week\n",
    "cdc_dow_births"
   ]
  },
  {
   "cell_type": "markdown",
   "metadata": {},
   "source": [
    "Step 6: Here are some suggestions for next steps:\n",
    "\n",
    "Write a function that can calculate the min and max values for any dictionary that's passed in.\n",
    "\n",
    "Write a function that extracts the same values across years and calculates the differences between consecutive values to show if number of births is increasing or decreasing.\n",
    "For example, how did the number of births on Saturday change each year between 1994 and 2003?\n",
    "\n",
    "Find a way to combine the CDC data with the SSA data, which you can find here. Specifically, brainstorm ways to deal with the overlapping time periods in the datasets."
   ]
  },
  {
   "cell_type": "code",
   "execution_count": 110,
   "metadata": {
    "collapsed": false
   },
   "outputs": [
    {
     "data": {
      "text/plain": [
       "{1994: 11299,\n",
       " 1995: 10050,\n",
       " 1996: 9460,\n",
       " 1997: 11666,\n",
       " 1998: 11894,\n",
       " 1999: 12055,\n",
       " 2000: 12754,\n",
       " 2001: 10397,\n",
       " 2002: 7842,\n",
       " 2003: 12449}"
      ]
     },
     "execution_count": 110,
     "metadata": {},
     "output_type": "execute_result"
    }
   ],
   "source": [
    "# function to extract the same values across years;\n",
    "# also calculate the differences between consecutive values\n",
    "# to show if number of births is increasing or decreasing\n",
    "\n",
    "#let's see how the number of Monday births changed between 1994\n",
    "#and 2003\n",
    "\n",
    "monday_births = {}\n",
    "\n",
    "for row in cdc_list:\n",
    "    year = row[0]\n",
    "    day_of_week = row[3]\n",
    "    births = row[4]\n",
    "    \n",
    "    if day_of_week == 2: #monday\n",
    "        if year in monday_births:\n",
    "            monday_births[year] += 1\n",
    "        else:\n",
    "            monday_births[year] = births\n",
    "        \n",
    "monday_births        "
   ]
  },
  {
   "cell_type": "markdown",
   "metadata": {},
   "source": [
    "Conclusion:\n",
    "\n",
    "Monday births do not show a lot of deviation between the years 1994 and 2003.  The least number of Monday births in this range of years was 2002 with 7,842 births.  The highest number of Monday births in this range of years was 12,754 in 2000.   Also of note is that the number of Monday births hovered around 12,000 between 1997 and 2000. "
   ]
  }
 ],
 "metadata": {
  "anaconda-cloud": {},
  "kernelspec": {
   "display_name": "Python 3",
   "language": "python",
   "name": "python3"
  },
  "language_info": {
   "codemirror_mode": {
    "name": "ipython",
    "version": 3
   },
   "file_extension": ".py",
   "mimetype": "text/x-python",
   "name": "python",
   "nbconvert_exporter": "python",
   "pygments_lexer": "ipython3",
   "version": "3.4.3"
  }
 },
 "nbformat": 4,
 "nbformat_minor": 1
}
